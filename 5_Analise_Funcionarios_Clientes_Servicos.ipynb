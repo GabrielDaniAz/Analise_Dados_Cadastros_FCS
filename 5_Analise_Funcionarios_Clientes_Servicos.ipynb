{
 "cells": [
  {
   "cell_type": "markdown",
   "id": "eea41b79-9f3f-46bc-a041-a2f2b3496f3d",
   "metadata": {},
   "source": [
    "## Análise Integrada de Dados: Explorando Cadastros de Funcionários, Clientes e Serviços Prestados"
   ]
  },
  {
   "cell_type": "markdown",
   "id": "5c051aec-42be-4818-a9cb-3677566475b5",
   "metadata": {},
   "source": [
    "#### Importação de Bibliotecas"
   ]
  },
  {
   "cell_type": "code",
   "execution_count": 1,
   "id": "6ed725a9-e3f3-4c8e-859c-e9fe4867ec7e",
   "metadata": {},
   "outputs": [],
   "source": [
    "import pandas as pd"
   ]
  },
  {
   "cell_type": "markdown",
   "id": "6a1ffbb9-4971-4360-a5b6-4908ac39887a",
   "metadata": {},
   "source": [
    "#### Função Axiliar"
   ]
  },
  {
   "cell_type": "code",
   "execution_count": 2,
   "id": "223a81c9-cfe6-4c9e-ab67-34094684c050",
   "metadata": {},
   "outputs": [],
   "source": [
    "# Print separador\n",
    "def ps():\n",
    "    print('\\n\\n'+'-'*80+'\\n\\n')"
   ]
  },
  {
   "cell_type": "markdown",
   "id": "9ae38b1b-8246-460f-a89d-044eea4d9941",
   "metadata": {},
   "source": [
    "#### Carregar Base de Dados"
   ]
  },
  {
   "cell_type": "code",
   "execution_count": 3,
   "id": "71cfca4d-6d95-47d8-93e7-74f9df8cedcf",
   "metadata": {},
   "outputs": [],
   "source": [
    "# Armazenando os dados na variável através do Pandas\n",
    "servicos_prestados_df = pd.read_excel(r'BaseServiçosPrestados.xlsx')\n",
    "cadastro_clientes_df = pd.read_csv(r'CadastroClientes.csv', sep=';')\n",
    "cadastro_funcionarios_df = pd.read_csv(r'CadastroFuncionarios.csv', sep=';', decimal=',')"
   ]
  },
  {
   "cell_type": "code",
   "execution_count": 4,
   "id": "0d889341-d9b9-4ac7-ac63-b6a65ef3f742",
   "metadata": {
    "collapsed": true,
    "jupyter": {
     "outputs_hidden": true
    },
    "tags": []
   },
   "outputs": [
    {
     "name": "stdout",
     "output_type": "stream",
     "text": [
      "Base de Serviços Prestados\n"
     ]
    },
    {
     "data": {
      "text/html": [
       "<div>\n",
       "<style scoped>\n",
       "    .dataframe tbody tr th:only-of-type {\n",
       "        vertical-align: middle;\n",
       "    }\n",
       "\n",
       "    .dataframe tbody tr th {\n",
       "        vertical-align: top;\n",
       "    }\n",
       "\n",
       "    .dataframe thead th {\n",
       "        text-align: right;\n",
       "    }\n",
       "</style>\n",
       "<table border=\"1\" class=\"dataframe\">\n",
       "  <thead>\n",
       "    <tr style=\"text-align: right;\">\n",
       "      <th></th>\n",
       "      <th>Codigo do Servico</th>\n",
       "      <th>ID Funcionário</th>\n",
       "      <th>ID Cliente</th>\n",
       "      <th>Tempo Total de Contrato (Meses)</th>\n",
       "    </tr>\n",
       "  </thead>\n",
       "  <tbody>\n",
       "    <tr>\n",
       "      <th>0</th>\n",
       "      <td>OS0001</td>\n",
       "      <td>67</td>\n",
       "      <td>1</td>\n",
       "      <td>14</td>\n",
       "    </tr>\n",
       "    <tr>\n",
       "      <th>1</th>\n",
       "      <td>OS0002</td>\n",
       "      <td>17</td>\n",
       "      <td>2</td>\n",
       "      <td>12</td>\n",
       "    </tr>\n",
       "    <tr>\n",
       "      <th>2</th>\n",
       "      <td>OS0003</td>\n",
       "      <td>116</td>\n",
       "      <td>4</td>\n",
       "      <td>14</td>\n",
       "    </tr>\n",
       "    <tr>\n",
       "      <th>3</th>\n",
       "      <td>OS0004</td>\n",
       "      <td>37</td>\n",
       "      <td>5</td>\n",
       "      <td>8</td>\n",
       "    </tr>\n",
       "    <tr>\n",
       "      <th>4</th>\n",
       "      <td>OS0005</td>\n",
       "      <td>130</td>\n",
       "      <td>6</td>\n",
       "      <td>8</td>\n",
       "    </tr>\n",
       "  </tbody>\n",
       "</table>\n",
       "</div>"
      ],
      "text/plain": [
       "  Codigo do Servico  ID Funcionário  ID Cliente  \\\n",
       "0            OS0001              67           1   \n",
       "1            OS0002              17           2   \n",
       "2            OS0003             116           4   \n",
       "3            OS0004              37           5   \n",
       "4            OS0005             130           6   \n",
       "\n",
       "   Tempo Total de Contrato (Meses)  \n",
       "0                               14  \n",
       "1                               12  \n",
       "2                               14  \n",
       "3                                8  \n",
       "4                                8  "
      ]
     },
     "metadata": {},
     "output_type": "display_data"
    },
    {
     "name": "stdout",
     "output_type": "stream",
     "text": [
      "<class 'pandas.core.frame.DataFrame'>\n",
      "RangeIndex: 237 entries, 0 to 236\n",
      "Data columns (total 4 columns):\n",
      " #   Column                           Non-Null Count  Dtype \n",
      "---  ------                           --------------  ----- \n",
      " 0   Codigo do Servico                237 non-null    object\n",
      " 1   ID Funcionário                   237 non-null    int64 \n",
      " 2   ID Cliente                       237 non-null    int64 \n",
      " 3   Tempo Total de Contrato (Meses)  237 non-null    int64 \n",
      "dtypes: int64(3), object(1)\n",
      "memory usage: 7.5+ KB\n"
     ]
    },
    {
     "data": {
      "text/plain": [
       "None"
      ]
     },
     "metadata": {},
     "output_type": "display_data"
    },
    {
     "name": "stdout",
     "output_type": "stream",
     "text": [
      "\n",
      "\n",
      "--------------------------------------------------------------------------------\n",
      "\n",
      "\n",
      "Cadastro de Clientes\n"
     ]
    },
    {
     "data": {
      "text/html": [
       "<div>\n",
       "<style scoped>\n",
       "    .dataframe tbody tr th:only-of-type {\n",
       "        vertical-align: middle;\n",
       "    }\n",
       "\n",
       "    .dataframe tbody tr th {\n",
       "        vertical-align: top;\n",
       "    }\n",
       "\n",
       "    .dataframe thead th {\n",
       "        text-align: right;\n",
       "    }\n",
       "</style>\n",
       "<table border=\"1\" class=\"dataframe\">\n",
       "  <thead>\n",
       "    <tr style=\"text-align: right;\">\n",
       "      <th></th>\n",
       "      <th>ID Cliente</th>\n",
       "      <th>Cliente</th>\n",
       "      <th>Valor Contrato Mensal</th>\n",
       "    </tr>\n",
       "  </thead>\n",
       "  <tbody>\n",
       "    <tr>\n",
       "      <th>0</th>\n",
       "      <td>1</td>\n",
       "      <td>Teixeira Gonçalves</td>\n",
       "      <td>540</td>\n",
       "    </tr>\n",
       "    <tr>\n",
       "      <th>1</th>\n",
       "      <td>2</td>\n",
       "      <td>Souza Santos</td>\n",
       "      <td>1260</td>\n",
       "    </tr>\n",
       "    <tr>\n",
       "      <th>2</th>\n",
       "      <td>3</td>\n",
       "      <td>Emídio Alves</td>\n",
       "      <td>3195</td>\n",
       "    </tr>\n",
       "    <tr>\n",
       "      <th>3</th>\n",
       "      <td>4</td>\n",
       "      <td>Santos Costa</td>\n",
       "      <td>2520</td>\n",
       "    </tr>\n",
       "    <tr>\n",
       "      <th>4</th>\n",
       "      <td>5</td>\n",
       "      <td>Do Monteiro</td>\n",
       "      <td>3510</td>\n",
       "    </tr>\n",
       "  </tbody>\n",
       "</table>\n",
       "</div>"
      ],
      "text/plain": [
       "   ID Cliente             Cliente  Valor Contrato Mensal\n",
       "0           1  Teixeira Gonçalves                    540\n",
       "1           2        Souza Santos                   1260\n",
       "2           3        Emídio Alves                   3195\n",
       "3           4        Santos Costa                   2520\n",
       "4           5         Do Monteiro                   3510"
      ]
     },
     "metadata": {},
     "output_type": "display_data"
    },
    {
     "name": "stdout",
     "output_type": "stream",
     "text": [
      "<class 'pandas.core.frame.DataFrame'>\n",
      "RangeIndex: 320 entries, 0 to 319\n",
      "Data columns (total 3 columns):\n",
      " #   Column                 Non-Null Count  Dtype \n",
      "---  ------                 --------------  ----- \n",
      " 0   ID Cliente             320 non-null    int64 \n",
      " 1   Cliente                320 non-null    object\n",
      " 2   Valor Contrato Mensal  320 non-null    int64 \n",
      "dtypes: int64(2), object(1)\n",
      "memory usage: 7.6+ KB\n"
     ]
    },
    {
     "data": {
      "text/plain": [
       "None"
      ]
     },
     "metadata": {},
     "output_type": "display_data"
    },
    {
     "name": "stdout",
     "output_type": "stream",
     "text": [
      "\n",
      "\n",
      "--------------------------------------------------------------------------------\n",
      "\n",
      "\n",
      "Cadastro de Funcionários\n"
     ]
    },
    {
     "data": {
      "text/html": [
       "<div>\n",
       "<style scoped>\n",
       "    .dataframe tbody tr th:only-of-type {\n",
       "        vertical-align: middle;\n",
       "    }\n",
       "\n",
       "    .dataframe tbody tr th {\n",
       "        vertical-align: top;\n",
       "    }\n",
       "\n",
       "    .dataframe thead th {\n",
       "        text-align: right;\n",
       "    }\n",
       "</style>\n",
       "<table border=\"1\" class=\"dataframe\">\n",
       "  <thead>\n",
       "    <tr style=\"text-align: right;\">\n",
       "      <th></th>\n",
       "      <th>ID Funcionário</th>\n",
       "      <th>Estado Civil</th>\n",
       "      <th>Nome Completo</th>\n",
       "      <th>Salario Base</th>\n",
       "      <th>Impostos</th>\n",
       "      <th>Beneficios</th>\n",
       "      <th>VT</th>\n",
       "      <th>VR</th>\n",
       "      <th>Cargo</th>\n",
       "      <th>Area</th>\n",
       "    </tr>\n",
       "  </thead>\n",
       "  <tbody>\n",
       "    <tr>\n",
       "      <th>0</th>\n",
       "      <td>1</td>\n",
       "      <td>C</td>\n",
       "      <td>Gabriel Mesquita</td>\n",
       "      <td>21910</td>\n",
       "      <td>10955.0</td>\n",
       "      <td>4382.0</td>\n",
       "      <td>242</td>\n",
       "      <td>719.04</td>\n",
       "      <td>Diretor</td>\n",
       "      <td>Operações</td>\n",
       "    </tr>\n",
       "    <tr>\n",
       "      <th>1</th>\n",
       "      <td>2</td>\n",
       "      <td>C</td>\n",
       "      <td>João Haddad</td>\n",
       "      <td>5404</td>\n",
       "      <td>2702.0</td>\n",
       "      <td>1080.8</td>\n",
       "      <td>154</td>\n",
       "      <td>574.56</td>\n",
       "      <td>Estagiário</td>\n",
       "      <td>Logística</td>\n",
       "    </tr>\n",
       "    <tr>\n",
       "      <th>2</th>\n",
       "      <td>3</td>\n",
       "      <td>C</td>\n",
       "      <td>Amanda Marques Ribeiro</td>\n",
       "      <td>16066</td>\n",
       "      <td>8033.0</td>\n",
       "      <td>3213.2</td>\n",
       "      <td>154</td>\n",
       "      <td>729.12</td>\n",
       "      <td>Estagiário</td>\n",
       "      <td>Administrativo</td>\n",
       "    </tr>\n",
       "    <tr>\n",
       "      <th>3</th>\n",
       "      <td>4</td>\n",
       "      <td>C</td>\n",
       "      <td>Guilherme Nunez</td>\n",
       "      <td>21305</td>\n",
       "      <td>10652.5</td>\n",
       "      <td>4261.0</td>\n",
       "      <td>220</td>\n",
       "      <td>524.16</td>\n",
       "      <td>Analista</td>\n",
       "      <td>Administrativo</td>\n",
       "    </tr>\n",
       "    <tr>\n",
       "      <th>4</th>\n",
       "      <td>5</td>\n",
       "      <td>C</td>\n",
       "      <td>Adelino Gomes</td>\n",
       "      <td>5098</td>\n",
       "      <td>2549.0</td>\n",
       "      <td>1019.6</td>\n",
       "      <td>176</td>\n",
       "      <td>725.76</td>\n",
       "      <td>Analista</td>\n",
       "      <td>Administrativo</td>\n",
       "    </tr>\n",
       "  </tbody>\n",
       "</table>\n",
       "</div>"
      ],
      "text/plain": [
       "   ID Funcionário Estado Civil           Nome Completo  Salario Base  \\\n",
       "0               1            C        Gabriel Mesquita         21910   \n",
       "1               2            C             João Haddad          5404   \n",
       "2               3            C  Amanda Marques Ribeiro         16066   \n",
       "3               4            C         Guilherme Nunez         21305   \n",
       "4               5            C           Adelino Gomes          5098   \n",
       "\n",
       "   Impostos  Beneficios   VT      VR       Cargo            Area  \n",
       "0   10955.0      4382.0  242  719.04     Diretor       Operações  \n",
       "1    2702.0      1080.8  154  574.56  Estagiário       Logística  \n",
       "2    8033.0      3213.2  154  729.12  Estagiário  Administrativo  \n",
       "3   10652.5      4261.0  220  524.16    Analista  Administrativo  \n",
       "4    2549.0      1019.6  176  725.76    Analista  Administrativo  "
      ]
     },
     "metadata": {},
     "output_type": "display_data"
    },
    {
     "name": "stdout",
     "output_type": "stream",
     "text": [
      "<class 'pandas.core.frame.DataFrame'>\n",
      "RangeIndex: 114 entries, 0 to 113\n",
      "Data columns (total 10 columns):\n",
      " #   Column          Non-Null Count  Dtype  \n",
      "---  ------          --------------  -----  \n",
      " 0   ID Funcionário  114 non-null    int64  \n",
      " 1   Estado Civil    114 non-null    object \n",
      " 2   Nome Completo   114 non-null    object \n",
      " 3   Salario Base    114 non-null    int64  \n",
      " 4   Impostos        114 non-null    float64\n",
      " 5   Beneficios      114 non-null    float64\n",
      " 6   VT              114 non-null    int64  \n",
      " 7   VR              114 non-null    float64\n",
      " 8   Cargo           114 non-null    object \n",
      " 9   Area            114 non-null    object \n",
      "dtypes: float64(3), int64(3), object(4)\n",
      "memory usage: 9.0+ KB\n"
     ]
    },
    {
     "data": {
      "text/plain": [
       "None"
      ]
     },
     "metadata": {},
     "output_type": "display_data"
    }
   ],
   "source": [
    "# Obter informações sobre os DataFrames\n",
    "print('Base de Serviços Prestados')\n",
    "display(servicos_prestados_df.head())\n",
    "display(servicos_prestados_df.info())\n",
    "ps()\n",
    "print('Cadastro de Clientes')\n",
    "display(cadastro_clientes_df.head())\n",
    "display(cadastro_clientes_df.info())\n",
    "ps()\n",
    "print('Cadastro de Funcionários')\n",
    "display(cadastro_funcionarios_df.head())\n",
    "display(cadastro_funcionarios_df.info())"
   ]
  },
  {
   "cell_type": "markdown",
   "id": "08c7ae1b-ed0f-4acb-8079-0725f475bc2b",
   "metadata": {},
   "source": [
    "#### 1 - Folha Salarial"
   ]
  },
  {
   "cell_type": "code",
   "execution_count": 5,
   "id": "70e2fa99-4da7-47b0-954d-9bab6458bf0e",
   "metadata": {},
   "outputs": [
    {
     "name": "stdout",
     "output_type": "stream",
     "text": [
      "Valor total da Folha Salarial: R$2.717.493,22\n"
     ]
    }
   ],
   "source": [
    "# Criando uma coluna no DataFrame chamado Folha salarial e contendo as somas de \n",
    "# 'Salario Base', 'Impostos', 'Beneficios', 'VT' (Vale Transporte) e 'VR' (Vale Refeição) de cada linha\n",
    "cadastro_funcionarios_df['Folha Salarial'] = (cadastro_funcionarios_df['Salario Base'] + \n",
    "                                              cadastro_funcionarios_df['Impostos'] + \n",
    "                                              cadastro_funcionarios_df['Beneficios'] + \n",
    "                                              cadastro_funcionarios_df['VT'] + \n",
    "                                              cadastro_funcionarios_df['VR'])\n",
    "\n",
    "# Obtendo a soma de toda coluna 'Folha Salarial' e armazenando na variável 'folha_salarial_total'\n",
    "folha_salarial_total = cadastro_funcionarios_df['Folha Salarial'].sum()\n",
    "\n",
    "# Formatando o valor para o padrão em Reais\n",
    "folha_salarial_total = \"{:_.2f}\".format(folha_salarial_total).replace('.',',').replace('_','.')\n",
    "\n",
    "# Printando o resultado na tela\n",
    "print('Valor total da Folha Salarial: R${}'.format(folha_salarial_total))"
   ]
  },
  {
   "cell_type": "markdown",
   "id": "2bb05bbe-3a1a-43f9-afb8-9fadb0feace8",
   "metadata": {},
   "source": [
    "#### 2 - Faturamento da empresa"
   ]
  },
  {
   "cell_type": "code",
   "execution_count": 6,
   "id": "3669a7ae-15f7-44fe-b2c8-c26b2b7f7c24",
   "metadata": {},
   "outputs": [
    {
     "name": "stdout",
     "output_type": "stream",
     "text": [
      "Valor total de Faturamento da Empresa: R$5.519.160,00\n"
     ]
    }
   ],
   "source": [
    "# Juntando os DataFrames de acordo com a coluna 'ID Cliente'\n",
    "faturamento_empresa_df = pd.merge(servicos_prestados_df, cadastro_clientes_df, on='ID Cliente')\n",
    "\n",
    "# Pegando os valores que interessam: 'Tempo Total de Contrato (Meses)' e 'Valor Contrato Mensal'\n",
    "faturamento_empresa_df = faturamento_empresa_df[['Tempo Total de Contrato (Meses)', 'Valor Contrato Mensal']]\n",
    "\n",
    "# Criando uma coluna para o Faturamento do Serviço contratado\n",
    "faturamento_empresa_df['Faturamento do Servico'] = (faturamento_empresa_df['Tempo Total de Contrato (Meses)'] *\n",
    "                                                   faturamento_empresa_df['Valor Contrato Mensal'])\n",
    "\n",
    "# Obtendo o faturamento total da empresa\n",
    "faturamento_total = faturamento_empresa_df['Faturamento do Servico'].sum()\n",
    "\n",
    "# Formatando o valor para o padrão em Reais\n",
    "faturamento_total = \"{:_.2f}\".format(faturamento_total).replace('.',',').replace('_','.')\n",
    "\n",
    "# Printando o resultado na tela\n",
    "print('Valor total de Faturamento da Empresa: R${}'.format(faturamento_total))"
   ]
  },
  {
   "cell_type": "markdown",
   "id": "04761dc9-5564-4216-b517-1f810df3c4a6",
   "metadata": {},
   "source": [
    "#### 3 - % de Funcionários Fecharam Contrato"
   ]
  },
  {
   "cell_type": "code",
   "execution_count": 7,
   "id": "455a1d9e-de45-4f9a-b57d-a5fc43a26ce5",
   "metadata": {
    "collapsed": true,
    "jupyter": {
     "outputs_hidden": true
    },
    "tags": []
   },
   "outputs": [
    {
     "name": "stdout",
     "output_type": "stream",
     "text": [
      "A empresa possui 114 funcionários e 99 funcionários fecharam contrato alguma vez\n",
      "86.8% dos funcionários já fecharam algum contrato.\n"
     ]
    }
   ],
   "source": [
    "# Vamos ver quantos funcionários (únicos) fecharam contrato com algum cliente\n",
    "qtd_funcionarios_fecharam_contrato = len(servicos_prestados_df['ID Funcionário'].unique())\n",
    "\n",
    "# Vamos ver quantos funcionários possui no total\n",
    "qtd_funcionarios = len(cadastro_funcionarios_df['ID Funcionário'].unique())\n",
    "\n",
    "# Calculando a % de funcionários que já fechou algum contrato\n",
    "porcentagem_funcionarios_fechou_contrato = qtd_funcionarios_fecharam_contrato/qtd_funcionarios\n",
    "\n",
    "# Printando informações sobre os funcionários\n",
    "print('A empresa possui {} funcionários e {} funcionários fecharam contrato alguma vez'.format(qtd_funcionarios, qtd_funcionarios_fecharam_contrato))\n",
    "print('{:.1%} dos funcionários já fecharam algum contrato.'.format(porcentagem_funcionarios_fechou_contrato))"
   ]
  },
  {
   "cell_type": "markdown",
   "id": "9bf80c62-aff6-49c2-a51d-e8592ff55afd",
   "metadata": {},
   "source": [
    "#### 4 - Quantidade de Contratos por Área"
   ]
  },
  {
   "cell_type": "code",
   "execution_count": 8,
   "id": "c578c62a-5dec-4e2e-b65e-0265ce6dcbb5",
   "metadata": {
    "collapsed": true,
    "jupyter": {
     "outputs_hidden": true
    },
    "tags": []
   },
   "outputs": [
    {
     "name": "stdout",
     "output_type": "stream",
     "text": [
      "Quantidade de contratos que cada área fechou:\n",
      "\tÁrea: Administrativo.\t Contratos: 63.\t Meses: 600.\n",
      "\tÁrea: Operações.\t Contratos: 48.\t Meses: 468.\n",
      "\tÁrea: Comercial.\t Contratos: 44.\t Meses: 436.\n",
      "\tÁrea: Financeiro.\t Contratos: 42.\t Meses: 384.\n",
      "\tÁrea: Logística.\t Contratos: 40.\t Meses: 400.\n",
      "\n",
      "\n",
      "--------------------------------------------------------------------------------\n",
      "\n",
      "\n"
     ]
    },
    {
     "data": {
      "text/html": [
       "<div>\n",
       "<style scoped>\n",
       "    .dataframe tbody tr th:only-of-type {\n",
       "        vertical-align: middle;\n",
       "    }\n",
       "\n",
       "    .dataframe tbody tr th {\n",
       "        vertical-align: top;\n",
       "    }\n",
       "\n",
       "    .dataframe thead th {\n",
       "        text-align: right;\n",
       "    }\n",
       "</style>\n",
       "<table border=\"1\" class=\"dataframe\">\n",
       "  <thead>\n",
       "    <tr style=\"text-align: right;\">\n",
       "      <th></th>\n",
       "      <th>Area</th>\n",
       "      <th>Contratos</th>\n",
       "      <th>Meses</th>\n",
       "    </tr>\n",
       "  </thead>\n",
       "  <tbody>\n",
       "    <tr>\n",
       "      <th>0</th>\n",
       "      <td>Administrativo</td>\n",
       "      <td>63</td>\n",
       "      <td>600</td>\n",
       "    </tr>\n",
       "    <tr>\n",
       "      <th>1</th>\n",
       "      <td>Operações</td>\n",
       "      <td>48</td>\n",
       "      <td>468</td>\n",
       "    </tr>\n",
       "    <tr>\n",
       "      <th>2</th>\n",
       "      <td>Comercial</td>\n",
       "      <td>44</td>\n",
       "      <td>436</td>\n",
       "    </tr>\n",
       "    <tr>\n",
       "      <th>3</th>\n",
       "      <td>Financeiro</td>\n",
       "      <td>42</td>\n",
       "      <td>384</td>\n",
       "    </tr>\n",
       "    <tr>\n",
       "      <th>4</th>\n",
       "      <td>Logística</td>\n",
       "      <td>40</td>\n",
       "      <td>400</td>\n",
       "    </tr>\n",
       "  </tbody>\n",
       "</table>\n",
       "</div>"
      ],
      "text/plain": [
       "             Area  Contratos  Meses\n",
       "0  Administrativo         63    600\n",
       "1       Operações         48    468\n",
       "2       Comercial         44    436\n",
       "3      Financeiro         42    384\n",
       "4       Logística         40    400"
      ]
     },
     "metadata": {},
     "output_type": "display_data"
    }
   ],
   "source": [
    "# Vamos juntar pela coluna 'ID Funcionários' os DataFrames 'servicos_prestados_df' e 'cadastro_funcionarios_df'\n",
    "# Apenas as colunas 'Codigo do Servico' (opcional), 'Tempo Total de Contrato (Meses)' do DataFrame 'servicos_prestados_df' interessa aqui\n",
    "# Apenas a coluna 'Area' do DataFrame 'cadastro_funcionarios_df' interessa aqui\n",
    "colunas_servicos = ['Codigo do Servico', 'Tempo Total de Contrato (Meses)','ID Funcionário']\n",
    "colunas_funcionarios = ['Area', 'ID Funcionário']\n",
    "contratos_areas_df = pd.merge(servicos_prestados_df[colunas_servicos], cadastro_funcionarios_df[colunas_funcionarios], on='ID Funcionário')\n",
    "\n",
    "# Obtendo a quantidade de cada área que repete em cada linha (qunatidade de vezes que fechou contrato)\n",
    "contratos_areas_dict = contratos_areas_df['Area'].value_counts().to_dict()\n",
    "\n",
    "# Obtendo a quantidade de meses que cada área conseguiu fechar com o cliente\n",
    "qtd_meses_contrato = contratos_areas_df.groupby('Area')['Tempo Total de Contrato (Meses)'].sum().to_dict()\n",
    "\n",
    "# Juntando as informações no mesmo dicionário\n",
    "area_meses_dict = {}\n",
    "for chave in contratos_areas_dict:\n",
    "    contrato = contratos_areas_dict[chave]\n",
    "    meses = qtd_meses_contrato[chave]\n",
    "    area_meses_dict[chave] = (contrato, meses)\n",
    "\n",
    "# Printando as informações\n",
    "print('Quantidade de contratos que cada área fechou:')\n",
    "for chave, valor in area_meses_dict.items():\n",
    "    print('\\tÁrea: {}.\\t Contratos: {}.\\t Meses: {}.'.format(chave, valor[0], valor[1]))\n",
    "\n",
    "ps() # Printando separador\n",
    "\n",
    "# Criando um DataFrame para ficar mais fácil a visualização (Apenas para treinar caso quisesse passar para dicionário)\n",
    "area_meses_df = pd.DataFrame.from_dict(area_meses_dict, orient='index', columns=['Contratos', 'Meses'])\n",
    "area_meses_df['Area'] = area_meses_df.index # O índex são as chaves até então. Aqui criamos uma coluna 'Area' obtendo os índices (chaves)\n",
    "area_meses_df = area_meses_df[['Area', 'Contratos', 'Meses']] # Reodernando as colunas\n",
    "area_meses_df.reset_index(drop=True, inplace=True) # Drop para apagar o índex anterior e inplace para atualizar variável sem a necessidade de atribuir\n",
    "# Printando o DataFrame na tela\n",
    "display(area_meses_df)"
   ]
  },
  {
   "cell_type": "markdown",
   "id": "e99dff44-9ad0-424e-bf3f-7fe48755c685",
   "metadata": {},
   "source": [
    "#### 5 - Total de Funcionários por Área"
   ]
  },
  {
   "cell_type": "code",
   "execution_count": 9,
   "id": "5a6c6b03-0492-4847-b083-98feb7896aff",
   "metadata": {
    "collapsed": true,
    "jupyter": {
     "outputs_hidden": true
    },
    "tags": []
   },
   "outputs": [
    {
     "data": {
      "text/plain": [
       "Administrativo    26\n",
       "Comercial         26\n",
       "Operações         23\n",
       "Logística         21\n",
       "Financeiro        18\n",
       "Name: Area, dtype: int64"
      ]
     },
     "metadata": {},
     "output_type": "display_data"
    },
    {
     "data": {
      "text/plain": [
       "<AxesSubplot:>"
      ]
     },
     "execution_count": 9,
     "metadata": {},
     "output_type": "execute_result"
    },
    {
     "data": {
      "image/png": "[encoded data removed]",
      "text/plain": [
       "<Figure size 432x288 with 1 Axes>"
      ]
     },
     "metadata": {
      "needs_background": "light"
     },
     "output_type": "display_data"
    }
   ],
   "source": [
    "# Obtendo um dicionário com as informações da Área e quantidade de funcionários\n",
    "funcionarios_area = cadastro_funcionarios_df['Area'].value_counts()\n",
    "\n",
    "# Printando as quantidades\n",
    "display(funcionarios_area)\n",
    "\n",
    "# Plotando um gráfico com as informações\n",
    "funcionarios_area.plot(kind='bar')"
   ]
  },
  {
   "cell_type": "markdown",
   "id": "96f579c5-5e17-4fbb-8a40-365d45009e24",
   "metadata": {},
   "source": [
    "#### 6 - Ticket Médio Mensal "
   ]
  },
  {
   "cell_type": "code",
   "execution_count": 10,
   "id": "3d60695a-4384-4208-b9e0-9b623d29533b",
   "metadata": {
    "tags": []
   },
   "outputs": [
    {
     "name": "stdout",
     "output_type": "stream",
     "text": [
      "Taxa de ticket médio mensal: R$2.502,56\n"
     ]
    }
   ],
   "source": [
    "# Obtendo o faturamento médio mensal de cada contrato\n",
    "ticket_medio_mensal = cadastro_clientes_df['Valor Contrato Mensal'].mean()\n",
    "\n",
    "# Formatando o valor para padrão em Reais\n",
    "ticket_medio_mensal = '{:_.2f}'.format(ticket_medio_mensal).replace('.',',').replace('_','.')\n",
    "\n",
    "# Printando informação na tela\n",
    "print('Taxa de ticket médio mensal: R${}'.format(ticket_medio_mensal))"
   ]
  }
 ],
 "metadata": {
  "kernelspec": {
   "display_name": "Python 3 (ipykernel)",
   "language": "python",
   "name": "python3"
  },
  "language_info": {
   "codemirror_mode": {
    "name": "ipython",
    "version": 3
   },
   "file_extension": ".py",
   "mimetype": "text/x-python",
   "name": "python",
   "nbconvert_exporter": "python",
   "pygments_lexer": "ipython3",
   "version": "3.9.12"
  }
 },
 "nbformat": 4,
 "nbformat_minor": 5
}
